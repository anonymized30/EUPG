{
 "cells": [
  {
   "cell_type": "code",
   "execution_count": null,
   "id": "cd30bf53",
   "metadata": {},
   "outputs": [],
   "source": [
    "import numpy as np\n",
    "import pandas as pd\n",
    "from unittest import TestCase\n",
    "\n",
    "from diffprivlib.mechanisms import ExponentialCategorical\n",
    "from diffprivlib.mechanisms import Laplace\n",
    "\n",
    "import time\n",
    "import pickle"
   ]
  },
  {
   "cell_type": "code",
   "execution_count": null,
   "id": "aa06902a",
   "metadata": {},
   "outputs": [],
   "source": [
    "times = []\n",
    "columns = [\"age\", \"workClass\", \"fnlwgt\", \"education\", \"education-num\",\n",
    "           \"marital-status\", \"occupation\", \"relationship\", \"race\", \"sex\", \n",
    "           \"capital-gain\", \"capital-loss\", \"hours-per-week\", \"native-country\", \"income\"]\n",
    "\n",
    "data = pd.read_csv('data/adult/adult.data', names=columns, sep=r' *, *', engine='python', na_values='?')\n",
    "# Drop useless columns\n",
    "data.dropna(inplace=True)\n",
    "# Reset the index\n",
    "data.reset_index(drop=True, inplace=True)\n",
    "# Load utilities\n",
    "file_path = 'data/adult/utilities.pkl'\n",
    "with open(file_path, 'rb') as file:\n",
    "    utility_dict = pickle.load(file)\n",
    "    \n",
    "EPS = [0.5, 2.5, 5., 25., 50., 100. ]\n",
    "for eps in EPS:\n",
    "    t0 = time.time()\n",
    "    data_copy = data.copy()\n",
    "    for attribute in data_copy.columns:\n",
    "        if attribute in utility_dict.keys():\n",
    "            utility_list = utility_dict[attribute]\n",
    "            try:\n",
    "                mech = ExponentialCategorical(epsilon = eps/(len(data_copy.columns)-1), utility_list = utility_list)\n",
    "            except:\n",
    "                utility_list = [[str(key1), str(key2), utility_value] for key1, key2, utility_value in utility_list]\n",
    "                mech = ExponentialCategorical(epsilon = eps/(len(data_copy.columns)-1), utility_list = utility_list)\n",
    "            data_copy[attribute] = data_copy[attribute].apply(lambda x: mech.randomise(str(x))).astype(data_copy[attribute].dtype)\n",
    "    \n",
    "    data_copy.to_csv('data/adult/dp_adult_eps={}.csv'.format(eps), index=False)\n",
    "    times.append(time.time() - t0)\n",
    "mean_time = np.mean(times)\n",
    "std_time = np.std(times)\n",
    "print('Anonymizing D time:{:0.2f}(±{:0.2f})'.format(mean_time, std_time))"
   ]
  },
  {
   "cell_type": "code",
   "execution_count": null,
   "id": "1ed73a97",
   "metadata": {},
   "outputs": [],
   "source": [
    "# Embedding and utility calculation runtime: 167.43188667297363\n",
    "# Anonymizing D time:19.52(±3.52)"
   ]
  },
  {
   "cell_type": "code",
   "execution_count": null,
   "id": "8b4e9ee6",
   "metadata": {},
   "outputs": [],
   "source": [
    "times = []\n",
    "data = pd.read_csv('data/heart/cardio_train.csv', sep=';')\n",
    "data.drop(columns=['id'], inplace=True)\n",
    "data.dropna(inplace=True)\n",
    "# Reset the index\n",
    "data.reset_index(drop=True, inplace=True)\n",
    "    \n",
    "EPS = [0.5, 2.5, 5., 25., 50., 100. ]\n",
    "for eps in EPS:\n",
    "    t0 = time.time()\n",
    "    data_copy = data.copy()\n",
    "    for attribute in data_copy.columns:\n",
    "        if 'cardio' in attribute:continue\n",
    "        a, b = data_copy[attribute].min(), data_copy[attribute].max()\n",
    "        sensitivity = b - a\n",
    "        mech = Laplace(epsilon = eps/(len(data_copy.columns)-1), sensitivity=sensitivity)\n",
    "        data_copy[attribute] = data_copy[attribute].apply(lambda x: mech.randomise(x)).astype(data_copy[attribute].dtype)\n",
    "        data_copy[attribute] = data_copy[attribute].apply(lambda x: np.clip(x, a, b)).astype(data_copy[attribute].dtype)\n",
    "    \n",
    "    data_copy.to_csv('data/heart/dp_heart_eps={}.csv'.format(eps), index=False)\n",
    "    times.append(time.time() - t0)\n",
    "    \n",
    "mean_time = np.mean(times)\n",
    "std_time = np.std(times)\n",
    "print('Anonymizing D time:{:0.2f}(±{:0.2f})'.format(mean_time, std_time))"
   ]
  },
  {
   "cell_type": "code",
   "execution_count": null,
   "id": "59cff521",
   "metadata": {},
   "outputs": [],
   "source": [
    "# Anonymizing D time:28.63(±1.51)"
   ]
  },
  {
   "cell_type": "code",
   "execution_count": null,
   "id": "29f4578f",
   "metadata": {},
   "outputs": [],
   "source": [
    "times = []\n",
    "data=pd.read_csv('data/GiveMeSomeCredit/cs-training.csv')\n",
    "data.drop(columns=['Unnamed: 0'], inplace=True)\n",
    "data.dropna(inplace=True)\n",
    "# Reset the index\n",
    "data.reset_index(drop=True, inplace=True)\n",
    "\n",
    "EPS = [0.5, 2.5, 5., 25., 50., 100.]\n",
    "for eps in EPS:\n",
    "    t0 = time.time()\n",
    "    data_copy = data.copy()\n",
    "    for attribute in data_copy.columns:\n",
    "        if 'SeriousDlqin2yrs' in attribute:continue\n",
    "        a, b = data_copy[attribute].min(), data_copy[attribute].max()\n",
    "        sensitivity = b - a\n",
    "        mech = Laplace(epsilon = eps/(len(data_copy.columns)-1), sensitivity=sensitivity)\n",
    "        data_copy[attribute] = data_copy[attribute].apply(lambda x: mech.randomise(x)).astype(data_copy[attribute].dtype)\n",
    "        data_copy[attribute] = data_copy[attribute].apply(lambda x: np.clip(x, a, b)).astype(data_copy[attribute].dtype)\n",
    "    \n",
    "    data_copy.to_csv('data/GiveMeSomeCredit/dp_credit_eps={}.csv'.format(eps), index=False)\n",
    "    times.append(time.time() - t0)\n",
    "    \n",
    "mean_time = np.mean(times)\n",
    "std_time = np.std(times)\n",
    "print('Anonymizing D time:{:0.2f}(±{:0.2f})'.format(mean_time, std_time))"
   ]
  },
  {
   "cell_type": "code",
   "execution_count": null,
   "id": "9acdbcd0",
   "metadata": {},
   "outputs": [],
   "source": [
    "# Anonymizing D time:44.09(±0.24)"
   ]
  }
 ],
 "metadata": {
  "kernelspec": {
   "display_name": "Python 3 (ipykernel)",
   "language": "python",
   "name": "python3"
  },
  "language_info": {
   "codemirror_mode": {
    "name": "ipython",
    "version": 3
   },
   "file_extension": ".py",
   "mimetype": "text/x-python",
   "name": "python",
   "nbconvert_exporter": "python",
   "pygments_lexer": "ipython3",
   "version": "3.8.16"
  }
 },
 "nbformat": 4,
 "nbformat_minor": 5
}
