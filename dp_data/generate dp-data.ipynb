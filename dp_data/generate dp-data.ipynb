{
 "cells": [
  {
   "cell_type": "code",
   "execution_count": 3,
   "id": "cd30bf53",
   "metadata": {},
   "outputs": [],
   "source": [
    "import numpy as np\n",
    "import pandas as pd\n",
    "from unittest import TestCase\n",
    "\n",
    "from diffprivlib.mechanisms import ExponentialCategorical\n",
    "from diffprivlib.mechanisms import Laplace\n",
    "\n",
    "import time\n",
    "import pickle"
   ]
  },
  {
   "cell_type": "code",
   "execution_count": 2,
   "id": "aa06902a",
   "metadata": {},
   "outputs": [
    {
     "name": "stdout",
     "output_type": "stream",
     "text": [
      "Anonymizing D time:20.82(±0.43)\n",
      "[21.166807174682617, 20.923747539520264, 20.989782571792603, 21.054184198379517, 20.892335414886475, 19.878856897354126]\n"
     ]
    }
   ],
   "source": [
    "times = []\n",
    "columns = [\"age\", \"workClass\", \"fnlwgt\", \"education\", \"education-num\",\n",
    "           \"marital-status\", \"occupation\", \"relationship\", \"race\", \"sex\", \n",
    "           \"capital-gain\", \"capital-loss\", \"hours-per-week\", \"native-country\", \"income\"]\n",
    "\n",
    "data = pd.read_csv('adult/adult.data', names=columns, sep=r' *, *', engine='python', na_values='?')\n",
    "# Drop useless columns\n",
    "data.dropna(inplace=True)\n",
    "# Reset the index\n",
    "data.reset_index(drop=True, inplace=True)\n",
    "# Load utilities\n",
    "file_path = 'adult/utilities.pkl'\n",
    "with open(file_path, 'rb') as file:\n",
    "    utility_dict = pickle.load(file)\n",
    "    \n",
    "EPS = [0.5, 2.5, 5., 25., 50., 100.]\n",
    "for eps in EPS:\n",
    "    t0 = time.time()\n",
    "    data_copy = data.copy()\n",
    "    for attribute in data_copy.columns:\n",
    "        if attribute in utility_dict.keys():\n",
    "            utility_list = utility_dict[attribute]\n",
    "            try:\n",
    "                mech = ExponentialCategorical(epsilon = eps/(len(data_copy.columns)-3), utility_list = utility_list)\n",
    "            except:\n",
    "                utility_list = [[str(key1), str(key2), utility_value] for key1, key2, utility_value in utility_list]\n",
    "                mech = ExponentialCategorical(epsilon = eps/(len(data_copy.columns)-3), utility_list = utility_list)\n",
    "            data_copy[attribute] = data_copy[attribute].apply(lambda x: mech.randomise(str(x))).astype(data_copy[attribute].dtype)\n",
    "    \n",
    "    data_copy.to_csv('adult/dp_adult_eps={}.csv'.format(eps), index=False)\n",
    "    times.append(time.time() - t0)\n",
    "mean_time = np.mean(times)\n",
    "std_time = np.std(times)\n",
    "print('Anonymizing D time:{:0.2f}(±{:0.2f})'.format(mean_time, std_time))\n",
    "print(times)"
   ]
  },
  {
   "cell_type": "code",
   "execution_count": null,
   "id": "1ed73a97",
   "metadata": {},
   "outputs": [],
   "source": [
    "# Embedding and utility calculation runtime: 167.43188667297363\n",
    "# Anonymizing D time:19.52(±3.52)"
   ]
  },
  {
   "cell_type": "code",
   "execution_count": 4,
   "id": "8b4e9ee6",
   "metadata": {},
   "outputs": [
    {
     "name": "stdout",
     "output_type": "stream",
     "text": [
      "Anonymizing D time:29.73(±0.20)\n"
     ]
    }
   ],
   "source": [
    "times = []\n",
    "data = pd.read_csv('heart/cardio_train.csv', sep=';')\n",
    "data.drop(columns=['id'], inplace=True)\n",
    "data.dropna(inplace=True)\n",
    "# Reset the index\n",
    "data.reset_index(drop=True, inplace=True)\n",
    "    \n",
    "EPS = [0.5, 2.5, 5., 25., 50., 100., 250, 500, 1000]\n",
    "for eps in EPS:\n",
    "    t0 = time.time()\n",
    "    data_copy = data.copy()\n",
    "    for attribute in data_copy.columns:\n",
    "        if 'cardio' in attribute:continue\n",
    "        a, b = data_copy[attribute].min(), data_copy[attribute].max()\n",
    "        sensitivity = b - a\n",
    "        mech = Laplace(epsilon = eps/(len(data_copy.columns)-1), sensitivity=sensitivity)\n",
    "        data_copy[attribute] = data_copy[attribute].apply(lambda x: mech.randomise(x)).astype(data_copy[attribute].dtype)\n",
    "        data_copy[attribute] = data_copy[attribute].apply(lambda x: np.clip(x, a, b)).astype(data_copy[attribute].dtype)\n",
    "    \n",
    "    data_copy.to_csv('heart/dp_heart_eps={}.csv'.format(eps), index=False)\n",
    "    times.append(time.time() - t0)\n",
    "    \n",
    "mean_time = np.mean(times)\n",
    "std_time = np.std(times)\n",
    "print('Anonymizing D time:{:0.2f}(±{:0.2f})'.format(mean_time, std_time))"
   ]
  },
  {
   "cell_type": "code",
   "execution_count": 5,
   "id": "59cff521",
   "metadata": {},
   "outputs": [
    {
     "name": "stdout",
     "output_type": "stream",
     "text": [
      "0.5 : 29.543476343154907\n",
      "2.5 : 29.59823989868164\n",
      "5.0 : 29.734660625457764\n",
      "25.0 : 29.40824007987976\n",
      "50.0 : 30.041175365447998\n",
      "100.0 : 29.871707439422607\n",
      "250 : 29.984375\n",
      "500 : 29.705463409423828\n",
      "1000 : 29.64196276664734\n"
     ]
    }
   ],
   "source": [
    "for eps, t in zip(EPS, times):\n",
    "    print(eps, ':', t)"
   ]
  },
  {
   "cell_type": "code",
   "execution_count": 6,
   "id": "29f4578f",
   "metadata": {},
   "outputs": [
    {
     "name": "stdout",
     "output_type": "stream",
     "text": [
      "Anonymizing D time:43.49(±0.23)\n",
      "[43.428497076034546, 43.209702491760254, 43.292699098587036, 43.907886266708374, 43.61999177932739, 43.48688077926636]\n"
     ]
    }
   ],
   "source": [
    "times = []\n",
    "data=pd.read_csv('GiveMeSomeCredit/cs-training.csv')\n",
    "data.drop(columns=['Unnamed: 0'], inplace=True)\n",
    "data.dropna(inplace=True)\n",
    "# Reset the index\n",
    "data.reset_index(drop=True, inplace=True)\n",
    "\n",
    "EPS = [0.5, 2.5, 5., 25., 50., 100.]\n",
    "for eps in EPS:\n",
    "    t0 = time.time()\n",
    "    data_copy = data.copy()\n",
    "    for attribute in data_copy.columns:\n",
    "        if 'SeriousDlqin2yrs' in attribute:continue\n",
    "        a, b = data_copy[attribute].min(), data_copy[attribute].max()\n",
    "        sensitivity = b - a\n",
    "        mech = Laplace(epsilon = eps/(len(data_copy.columns)-1), sensitivity=sensitivity)\n",
    "        data_copy[attribute] = data_copy[attribute].apply(lambda x: mech.randomise(x)).astype(data_copy[attribute].dtype)\n",
    "        data_copy[attribute] = data_copy[attribute].apply(lambda x: np.clip(x, a, b)).astype(data_copy[attribute].dtype)\n",
    "    \n",
    "    data_copy.to_csv('GiveMeSomeCredit/dp_credit_eps={}.csv'.format(eps), index=False)\n",
    "    times.append(time.time() - t0)\n",
    "    \n",
    "mean_time = np.mean(times)\n",
    "std_time = np.std(times)\n",
    "print('Anonymizing D time:{:0.2f}(±{:0.2f})'.format(mean_time, std_time))\n",
    "print(times)"
   ]
  }
 ],
 "metadata": {
  "kernelspec": {
   "display_name": "Python 3 (ipykernel)",
   "language": "python",
   "name": "python3"
  },
  "language_info": {
   "codemirror_mode": {
    "name": "ipython",
    "version": 3
   },
   "file_extension": ".py",
   "mimetype": "text/x-python",
   "name": "python",
   "nbconvert_exporter": "python",
   "pygments_lexer": "ipython3",
   "version": "3.8.16"
  }
 },
 "nbformat": 4,
 "nbformat_minor": 5
}
